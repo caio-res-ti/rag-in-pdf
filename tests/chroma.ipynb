{
 "cells": [
  {
   "cell_type": "code",
   "execution_count": null,
   "metadata": {},
   "outputs": [],
   "source": [
    "###client.delete_collection('yt_demo')\n",
    "import os\n",
    "# os.environ['BASE-PROJECT-DIR'] = '/home/adeilson/llm-study'\n",
    "# os.environ['DATA-PROJECT-DIR'] = os.environ.get('BASE-PROJECT-DIR') + '/datasets'\n",
    "# os.environ[\"PYTHONPATH\"] = os.environ.get('BASE-PROJECT-DIR') + '/commons'\n",
    "os.environ.get(\"PYTHONPATH\")"
   ]
  },
  {
   "cell_type": "code",
   "execution_count": null,
   "metadata": {},
   "outputs": [],
   "source": [
    "import chromadb\n",
    "from chromadb.utils import embedding_functions\n",
    "\n",
    "import load_datasets\n",
    "from pprint import pprint\n",
    "\n",
    "#client = chromadb.Client()\n",
    "#sentence_transformer_ef = embedding_functions.SentenceTransformerEmbeddingFunction(model_name=\"all-MiniLM-L6-v2\")\n",
    "\n",
    "PERSISTED_CHROMADB_DIR = '/home/adeilson/llm-study/persisted_chromadb'\n",
    "client = chromadb.PersistentClient(path=PERSISTED_CHROMADB_DIR)"
   ]
  },
  {
   "cell_type": "code",
   "execution_count": 1,
   "metadata": {},
   "outputs": [],
   "source": [
    "#collection = client.get_or_create_collection(name=\"yt_demo\", embedding_function=sentence_transformer_ef)\n",
    "\n",
    "import chromadb\n",
    "client = chromadb.Client()\n",
    "collection = client.get_or_create_collection(name=\"yt_demo\")\n",
    "collection.add(\n",
    "    #embeddings=[[1.2, 2.3, 4.5], [6.7, 8.2, 9.2]],\n",
    "    documents=[\"This is a document about cat\", \"This is a document about car\"],\n",
    "    metadatas=[{\"category\": \"animal\"}, {\"category\": \"vehicle\"}],\n",
    "    ids=[\"1\", \"2\"]\n",
    ")"
   ]
  },
  {
   "cell_type": "code",
   "execution_count": null,
   "metadata": {},
   "outputs": [],
   "source": [
    "collection.count()"
   ]
  },
  {
   "cell_type": "code",
   "execution_count": 11,
   "metadata": {},
   "outputs": [
    {
     "data": {
      "text/plain": [
       "['This is a document about car', 'This is a document about cat']"
      ]
     },
     "execution_count": 11,
     "metadata": {},
     "output_type": "execute_result"
    }
   ],
   "source": [
    "results = collection.query(\n",
    "    query_texts=[\"taxi\"],\n",
    "    n_results=2\n",
    ")\n",
    "results['documents'][0]\n"
   ]
  },
  {
   "cell_type": "code",
   "execution_count": 12,
   "metadata": {},
   "outputs": [
    {
     "data": {
      "text/plain": [
       "2"
      ]
     },
     "execution_count": 12,
     "metadata": {},
     "output_type": "execute_result"
    }
   ],
   "source": [
    "len(results['documents'][0])"
   ]
  },
  {
   "cell_type": "code",
   "execution_count": null,
   "metadata": {},
   "outputs": [],
   "source": [
    "file_data = load_datasets.read_all_txt_files()\n",
    "\n",
    "documents = []\n",
    "metadatas = []\n",
    "ids = []\n",
    "\n",
    "for index, data in enumerate(file_data):\n",
    "    documents.append(data['content'])\n",
    "    metadatas.append({'source': data['file_name']})\n",
    "    ids.append(str(index + 1))\n",
    "\n",
    "txt_collection = client.create_collection(\n",
    "    name=\"txt_collection\",\n",
    "    metadata={\"hnsw:space\": \"cosine\"} # l2 is the default\n",
    ")\n",
    "\n",
    "txt_collection.add(\n",
    "    documents=documents,\n",
    "    metadatas=metadatas,\n",
    "    ids=ids\n",
    ")"
   ]
  },
  {
   "cell_type": "code",
   "execution_count": null,
   "metadata": {},
   "outputs": [],
   "source": [
    "txt_collection.count()\n",
    "#txt_collection.metadata"
   ]
  },
  {
   "cell_type": "code",
   "execution_count": null,
   "metadata": {},
   "outputs": [],
   "source": [
    "txt_collection = client.get_collection(\"txt_collection\")"
   ]
  },
  {
   "cell_type": "markdown",
   "metadata": {},
   "source": [
    "### Querying"
   ]
  },
  {
   "cell_type": "code",
   "execution_count": null,
   "metadata": {},
   "outputs": [],
   "source": [
    "results = txt_collection.query(\n",
    "    query_texts=[\"Who has experience as CTO and experience in AWS?\"],\n",
    "    n_results=1,\n",
    "    include=[\"metadatas\",\"documents\",\"distances\"]\n",
    ")\n",
    "pprint(results)\n"
   ]
  },
  {
   "cell_type": "code",
   "execution_count": null,
   "metadata": {},
   "outputs": [],
   "source": [
    "results = txt_collection.query(\n",
    "    query_texts=[\"Who knows TD security and Selenium?\"],\n",
    "    n_results=1\n",
    ")\n",
    "pprint(results)"
   ]
  },
  {
   "cell_type": "code",
   "execution_count": null,
   "metadata": {},
   "outputs": [],
   "source": [
    "results = txt_collection.query(\n",
    "    query_texts=[\"proteção de dados?\"],\n",
    "    n_results=2\n",
    ")\n",
    "pprint(results)"
   ]
  },
  {
   "cell_type": "markdown",
   "metadata": {},
   "source": [
    "### Filtering"
   ]
  },
  {
   "cell_type": "code",
   "execution_count": null,
   "metadata": {},
   "outputs": [],
   "source": [
    "results = txt_collection.query(\n",
    "    query_texts=[\"Knows how to architect to AWS\"],\n",
    "    n_results=1\n",
    "    #, where_document={\"$contains\":\"data engineering\"}\n",
    "    , where={\"source\": \"adeilson-cv.txt\"}\n",
    ")\n",
    "pprint(results)"
   ]
  },
  {
   "cell_type": "markdown",
   "metadata": {},
   "source": [
    "### Embedding"
   ]
  },
  {
   "cell_type": "markdown",
   "metadata": {},
   "source": [
    "ChromaDB uses the Sentence Transformers **all-MiniLM-L6-v2** model by default.  \n",
    "You can use any other model for creating embeddings.  "
   ]
  },
  {
   "cell_type": "code",
   "execution_count": null,
   "metadata": {},
   "outputs": [],
   "source": [
    "from sentence_transformers import SentenceTransformer\n",
    "\n",
    "model = SentenceTransformer('all-MiniLM-L6-v2')\n",
    "\n",
    "documents = []\n",
    "embeddings = []\n",
    "metadatas = []\n",
    "ids = []\n",
    "\n",
    "for index, data in enumerate(file_data):\n",
    "    documents.append(data['content'])\n",
    "    embedding = model.encode(data['content']).tolist()\n",
    "    embeddings.append(embedding)\n",
    "    metadatas.append({'source': data['file_name']})\n",
    "    ids.append(str(index + 1))\n"
   ]
  },
  {
   "cell_type": "code",
   "execution_count": null,
   "metadata": {},
   "outputs": [],
   "source": [
    "#if check_if_collection_exists(\"txt_collection_emb\"):\n",
    "# client.delete_collection(\"txt_collection_emb\")\n",
    "\n",
    "txt_collection_emb = client.get_or_create_collection(\"txt_collection_emb\")\n",
    "\n",
    "txt_collection_emb.add(\n",
    "    documents=documents,\n",
    "    embeddings=embeddings,\n",
    "    metadatas=metadatas,\n",
    "    ids=ids\n",
    ")\n"
   ]
  },
  {
   "cell_type": "code",
   "execution_count": null,
   "metadata": {},
   "outputs": [],
   "source": [
    "#### This query is not working well\n",
    "query = \"Who has experience as CTO and experience in AWS?\"\n",
    "input_em = model.encode(query).tolist()\n",
    "\n",
    "results = txt_collection_emb.query(\n",
    "    query_embeddings=[input_em],\n",
    "    n_results=1\n",
    ")\n",
    "pprint(results)\n"
   ]
  }
 ],
 "metadata": {
  "kernelspec": {
   "display_name": "ai",
   "language": "python",
   "name": "python3"
  },
  "language_info": {
   "codemirror_mode": {
    "name": "ipython",
    "version": 3
   },
   "file_extension": ".py",
   "mimetype": "text/x-python",
   "name": "python",
   "nbconvert_exporter": "python",
   "pygments_lexer": "ipython3",
   "version": "3.11.7"
  }
 },
 "nbformat": 4,
 "nbformat_minor": 2
}
